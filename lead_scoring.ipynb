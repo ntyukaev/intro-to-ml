{
 "cells": [
  {
   "cell_type": "markdown",
   "metadata": {},
   "source": [
    "# Задача классификации лидов (потенциальных покупателей)\n",
    "\n",
    "## Информация\n",
    "\n",
    "An education company named X Education sells online courses to industry professionals. On any given day, many professionals who are interested in the courses land on their website and browse for courses.\n",
    "\n",
    "The company markets its courses on several websites and search engines like Google. Once these people land on the website, they might browse the courses or fill up a form for the course or watch some videos. When these people fill up a form providing their email address or phone number, they are classified to be a lead. Moreover, the company also gets leads through past referrals. Once these leads are acquired, employees from the sales team start making calls, writing emails, etc. Through this process, some of the leads get converted while most do not. The typical lead conversion rate at X education is around 30%.\n",
    "\n",
    "Now, although X Education gets a lot of leads, its lead conversion rate is very poor. For example, if, say, they acquire 100 leads in a day, only about 30 of them are converted. To make this process more efficient, the company wishes to identify the most potential leads, also known as ‘Hot Leads’. If they successfully identify this set of leads, the lead conversion rate should go up as the sales team will now be focusing more on communicating with the potential leads rather than making calls to everyone.\n",
    "\n",
    "There are a lot of leads generated in the initial stage (top) but only a few of them come out as paying customers from the bottom. In the middle stage, you need to nurture the potential leads well (i.e. educating the leads about the product, constantly communicating, etc. ) in order to get a higher lead conversion.\n",
    "\n",
    "X Education wants to select the most promising leads, i.e. the leads that are most likely to convert into paying customers. The company requires you to build a model wherein you need to assign a lead score to each of the leads such that the customers with higher lead score h have a higher conversion chance and the customers with lower lead score have a lower conversion chance. The CEO, in particular, has given a ballpark of the target lead conversion rate to be around 80%.\n",
    "\n",
    "## Признаки\n",
    "\n",
    "* Prospect ID - A unique ID with which the customer is identified.\n",
    "* Lead Number - A lead number assigned to each lead procured.\n",
    "* Lead Origin - The origin identifier with which the customer was identified to be a lead. Includes API, Landing Page Submission, etc.\n",
    "* Lead Source - The source of the lead. Includes Google, Organic Search, Olark Chat, etc.\n",
    "* Do Not Email -An indicator variable selected by the customer wherein they select whether of not they want to be emailed about the course or not.\n",
    "* Do Not Call - An indicator variable selected by the customer wherein they select whether of not they want to be called about the course or not.\n",
    "* Converted - The target variable. Indicates whether a lead has been successfully converted or not.\n",
    "* TotalVisits - The total number of visits made by the customer on the website.\n",
    "* Total Time Spent on Website - The total time spent by the customer on the website.\n",
    "* Page Views Per Visit - Average number of pages on the website viewed during the visits.\n",
    "* Last Activity - Last activity performed by the customer. Includes Email Opened, Olark Chat Conversation, etc.\n",
    "* Country - The country of the customer.\n",
    "* Specialization - The industry domain in which the customer worked before. Includes the level 'Select Specialization' which means the customer had not selected this option while filling the form.\n",
    "* How did you hear about X Education - The source from which the customer heard about X Education.\n",
    "* What is your current occupation - Indicates whether the customer is a student, umemployed or employed.\n",
    "* What matters most to you in choosing this course An option selected by the customer - indicating what is their main motto behind doing this course.\n",
    "* Search - Indicating whether the customer had seen the ad in any of the listed items.\n",
    "* Magazine\n",
    "* Newspaper Article\n",
    "* X Education Forums\n",
    "* Newspaper\n",
    "* Digital Advertisement\n",
    "* Through Recommendations - Indicates whether the customer came in through recommendations.\n",
    "* Receive More Updates About Our Courses - Indicates whether the customer chose to receive more updates about the courses.\n",
    "* Tags - Tags assigned to customers indicating the current status of the lead.\n",
    "* Lead Quality - Indicates the quality of lead based on the data and intuition the employee who has been assigned to the lead.\n",
    "* Update me on Supply Chain Content - Indicates whether the customer wants updates on the Supply Chain Content.\n",
    "* Get updates on DM Content - Indicates whether the customer wants updates on the DM Content.\n",
    "* Lead Profile - A lead level assigned to each customer based on their profile.\n",
    "* City - The city of the customer.\n",
    "* Asymmetric Activity Index - An index and score assigned to each customer based on their activity and their profile\n",
    "* Asymmetric Profile Index\n",
    "* Asymmetric Activity Score\n",
    "* Asymmetric Profile Score\n",
    "* I agree to pay the amount through cheque - Indicates whether the customer has agreed to pay the amount through cheque or not.\n",
    "* a free copy of Mastering The Interview - Indicates whether the customer wants a free copy of 'Mastering the Interview' or not.\n",
    "* Last Notable Activity - The last notable activity performed by the student.\n",
    "\n",
    "\n",
    "## Ссылки\n",
    "* https://www.kaggle.com/amritachatterjee09/lead-scoring-dataset\n"
   ]
  },
  {
   "cell_type": "markdown",
   "metadata": {},
   "source": [
    "# 1. Импорт библиотек"
   ]
  },
  {
   "cell_type": "code",
   "execution_count": 1,
   "metadata": {},
   "outputs": [],
   "source": [
    "import pandas as pd"
   ]
  },
  {
   "cell_type": "code",
   "execution_count": null,
   "metadata": {},
   "outputs": [],
   "source": []
  }
 ],
 "metadata": {
  "kernelspec": {
   "display_name": "Python 3",
   "language": "python",
   "name": "python3"
  },
  "language_info": {
   "codemirror_mode": {
    "name": "ipython",
    "version": 3
   },
   "file_extension": ".py",
   "mimetype": "text/x-python",
   "name": "python",
   "nbconvert_exporter": "python",
   "pygments_lexer": "ipython3",
   "version": "3.8.3"
  }
 },
 "nbformat": 4,
 "nbformat_minor": 4
}
